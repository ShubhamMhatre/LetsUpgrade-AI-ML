{
 "cells": [
  {
   "cell_type": "markdown",
   "metadata": {},
   "source": [
    "# Answer 1 "
   ]
  },
  {
   "cell_type": "code",
   "execution_count": 2,
   "metadata": {},
   "outputs": [
    {
     "name": "stdout",
     "output_type": "stream",
     "text": [
      "(-3-3j)\n"
     ]
    }
   ],
   "source": [
    "a = 2 + 5j # a = complex number\n",
    "b = 5 + 8j # b = complex number\n",
    "print(a-b)"
   ]
  },
  {
   "cell_type": "markdown",
   "metadata": {},
   "source": [
    "# Answer 2"
   ]
  },
  {
   "cell_type": "code",
   "execution_count": 9,
   "metadata": {},
   "outputs": [
    {
     "name": "stdout",
     "output_type": "stream",
     "text": [
      "5.0\n"
     ]
    }
   ],
   "source": [
    "# fourth root of a number\n",
    "c = 625\n",
    "print(c**0.25)"
   ]
  },
  {
   "cell_type": "markdown",
   "metadata": {},
   "source": [
    "# Answer 3"
   ]
  },
  {
   "cell_type": "code",
   "execution_count": 14,
   "metadata": {},
   "outputs": [
    {
     "name": "stdout",
     "output_type": "stream",
     "text": [
      "The value of x after swapping: 69\n",
      "The value of y after swapping: 96\n"
     ]
    }
   ],
   "source": [
    "# Python program to swap two variables\n",
    "\n",
    "x = 96\n",
    "y = 69\n",
    "\n",
    "\n",
    "# create a temporary variable and swap the values\n",
    "temp = x\n",
    "x = y\n",
    "y = temp\n",
    "\n",
    "print('The value of x after swapping: {}'.format(x))\n",
    "print('The value of y after swapping: {}'.format(y))\n"
   ]
  },
  {
   "cell_type": "markdown",
   "metadata": {},
   "source": [
    "# Answer 4"
   ]
  },
  {
   "cell_type": "code",
   "execution_count": 18,
   "metadata": {},
   "outputs": [
    {
     "name": "stdout",
     "output_type": "stream",
     "text": [
      "After Swapping: x = 5  y = 10\n"
     ]
    }
   ],
   "source": [
    "# to swap two numbers without using a temporary variable\n",
    "\n",
    "x = 10\n",
    "y = 5\n",
    " \n",
    "x = x + y   # x now becomes 15 \n",
    "  \n",
    "y = x - y   # y becomes 10 \n",
    "\n",
    "x = x - y  # x becomes 5  \n",
    "\n",
    "print(\"After Swapping: x =\", x, \" y =\", y); "
   ]
  },
  {
   "cell_type": "markdown",
   "metadata": {},
   "source": [
    "# Answer 5"
   ]
  },
  {
   "cell_type": "code",
   "execution_count": 22,
   "metadata": {},
   "outputs": [
    {
     "name": "stdout",
     "output_type": "stream",
     "text": [
      "Temperature in Kelvin ( K ) = 311.833\n",
      "Temperature in Celsius ( C ) = 38.333\n"
     ]
    }
   ],
   "source": [
    "# to convert fahrenheit to kelvin and celsius both.\n",
    "def Fahrenheit_to_Kelvin(F): \n",
    "    return 273.5 + ((F - 32.0) * (5.0/9.0)) \n",
    "  \n",
    "\n",
    "\n",
    "def Fahrenheit_to_Celsius(F):\n",
    "    return ((F - 32.0) * (5.0/9.0))\n",
    "\n",
    "F = 101\n",
    "\n",
    "print(\"Temperature in Kelvin ( K ) = {:.3f}\" \n",
    "            .format(Fahrenheit_to_Kelvin( F )))\n",
    "print(\"Temperature in Celsius ( C ) = {:.3f}\" \n",
    "            .format(Fahrenheit_to_Celsius( F )))"
   ]
  },
  {
   "cell_type": "markdown",
   "metadata": {},
   "source": [
    "# Answer 6\n"
   ]
  },
  {
   "cell_type": "code",
   "execution_count": 4,
   "metadata": {},
   "outputs": [
    {
     "name": "stdout",
     "output_type": "stream",
     "text": [
      "<class 'int'>\n",
      "<class 'float'>\n",
      "<class 'complex'>\n",
      "<class 'str'>\n",
      "<class 'bool'>\n"
     ]
    }
   ],
   "source": [
    "#  to demonstrate all the available data types in Python.\n",
    "q = 5115\n",
    "r = 52.36\n",
    "s = 21 + 41j\n",
    "t = 'I am enjoying learning at LetsUpgrade'\n",
    "u = True\n",
    "print (type(q))\n",
    "print (type(r))\n",
    "print (type(s))\n",
    "print (type(t))\n",
    "print (type(u))"
   ]
  },
  {
   "cell_type": "markdown",
   "metadata": {},
   "source": [
    "# Answer 7"
   ]
  },
  {
   "cell_type": "markdown",
   "metadata": {},
   "source": [
    " # Steps to create Github profile and upload Githubs Assignment link.\n",
    " 1. Go to the GitHub.com and create your GitHub profile \n",
    " 2. Create a \"New Repository\" (Name it)\n",
    " 3. In the newly opened folder 'Click on upload existing file' and drag the file then 'Click on commit changes' (file will be       uploaded.\n",
    " 4. Open the file 'Copy the URL\" and paste it in the Google forms and Submit.\n",
    " \n",
    " "
   ]
  }
 ],
 "metadata": {
  "kernelspec": {
   "display_name": "Python 3",
   "language": "python",
   "name": "python3"
  },
  "language_info": {
   "codemirror_mode": {
    "name": "ipython",
    "version": 3
   },
   "file_extension": ".py",
   "mimetype": "text/x-python",
   "name": "python",
   "nbconvert_exporter": "python",
   "pygments_lexer": "ipython3",
   "version": "3.7.6"
  }
 },
 "nbformat": 4,
 "nbformat_minor": 4
}
