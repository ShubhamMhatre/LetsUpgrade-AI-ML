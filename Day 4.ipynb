{
 "cells": [
  {
   "cell_type": "markdown",
   "metadata": {},
   "source": [
    "# Answer 1\n",
    "# On research on Complex Numbers I found that modulo and floor division operations can not be implemented on complex numers."
   ]
  },
  {
   "cell_type": "code",
   "execution_count": 1,
   "metadata": {},
   "outputs": [
    {
     "name": "stdout",
     "output_type": "stream",
     "text": [
      "Addition of two complex numbers :  (4126-4509j)\n",
      "Subtraction of two complex numbers :  (4084+7494j)\n",
      "Multiplication of two complex numbers :  (192659405-318681495j)\n",
      "Division of two complex numbers :  (0.822094052789309-0.5951131180494621j)\n"
     ]
    }
   ],
   "source": [
    "print(\"Addition of two complex numbers : \",(4123+3j)+(3-4512j))\n",
    "print(\"Subtraction of two complex numbers : \",(4123+38j)-(39-7456j))\n",
    "print(\"Multiplication of two complex numbers : \",(46325+3415j)*(3632-7147j))\n",
    "print(\"Division of two complex numbers : \",(4321+3456j)/(1452+5255j))"
   ]
  },
  {
   "cell_type": "code",
   "execution_count": 2,
   "metadata": {},
   "outputs": [
    {
     "ename": "SyntaxError",
     "evalue": "unexpected character after line continuation character (<ipython-input-2-ff7ebc25c2ac>, line 2)",
     "output_type": "error",
     "traceback": [
      "\u001b[1;36m  File \u001b[1;32m\"<ipython-input-2-ff7ebc25c2ac>\"\u001b[1;36m, line \u001b[1;32m2\u001b[0m\n\u001b[1;33m    print(\"Floor Division of two complex numbers : \",(4123+3j)\\\\(3-4512j))\u001b[0m\n\u001b[1;37m                                                                          ^\u001b[0m\n\u001b[1;31mSyntaxError\u001b[0m\u001b[1;31m:\u001b[0m unexpected character after line continuation character\n"
     ]
    }
   ],
   "source": [
    "print(\"Modulo of two complex numbers : \",(4123+3412j)%(354-4512j))\n",
    "print(\"Floor Division of two complex numbers : \",(4123+3j)\\\\(3-4512j))"
   ]
  },
  {
   "cell_type": "markdown",
   "metadata": {},
   "source": [
    " **From the above operation we can understand Modulo and Floor Division can not be performed on complex number.**"
   ]
  },
  {
   "cell_type": "markdown",
   "metadata": {},
   "source": [
    "# Answer 2"
   ]
  },
  {
   "cell_type": "markdown",
   "metadata": {},
   "source": [
    "# Research on range() functions and its parameters.\n",
    "   __Range() can be undrstand by the number of intergers between list or tupule and can be use  identify all the number of integers in the given in the list from start to end.__\n"
   ]
  },
  {
   "cell_type": "code",
   "execution_count": 11,
   "metadata": {},
   "outputs": [
    {
     "name": "stdout",
     "output_type": "stream",
     "text": [
      "Get numbers from range 0 to 11\n",
      "0, 1, 2, 3, 4, 5, 6, 7, 8, 9, 10, "
     ]
    }
   ],
   "source": [
    "# Example of Range() function\n",
    "\n",
    "print(\"Get numbers from range 0 to 11\")\n",
    "for i in range(11):\n",
    "    print(i, end=', ')"
   ]
  },
  {
   "cell_type": "markdown",
   "metadata": {},
   "source": [
    "# Answer 3"
   ]
  },
  {
   "cell_type": "code",
   "execution_count": 10,
   "metadata": {},
   "outputs": [
    {
     "name": "stdout",
     "output_type": "stream",
     "text": [
      "132 multiplication result\n"
     ]
    }
   ],
   "source": [
    "a = 33\n",
    "b = 4\n",
    "x = a - b\n",
    "if x > 25:\n",
    "    print ((a*b), 'is multiplication result')\n",
    "else:\n",
    "    print (a/b, \"is division result\")\n"
   ]
  },
  {
   "cell_type": "code",
   "execution_count": 12,
   "metadata": {},
   "outputs": [
    {
     "name": "stdout",
     "output_type": "stream",
     "text": [
      "1.5 is division result\n"
     ]
    }
   ],
   "source": [
    "a = 33\n",
    "b = 22\n",
    "x = a - b\n",
    "if x > 25:\n",
    "    print ((a*b), 'is multiplication result')\n",
    "else:\n",
    "    print (a/b, \"is division result\")\n"
   ]
  },
  {
   "cell_type": "markdown",
   "metadata": {},
   "source": [
    "# Answer 4\n"
   ]
  },
  {
   "cell_type": "code",
   "execution_count": 18,
   "metadata": {},
   "outputs": [
    {
     "name": "stdout",
     "output_type": "stream",
     "text": [
      "2\n",
      "14\n",
      "34\n",
      "62\n",
      "194\n"
     ]
    }
   ],
   "source": [
    "a = [1,2,3,4,5,6,7,8,9,14]\n",
    "for i in a:\n",
    "    if(i%2==0) :\n",
    "        print (i*i-2)\n",
    "        "
   ]
  },
  {
   "cell_type": "markdown",
   "metadata": {},
   "source": [
    "# Answer 5"
   ]
  },
  {
   "cell_type": "code",
   "execution_count": 39,
   "metadata": {},
   "outputs": [
    {
     "name": "stdout",
     "output_type": "stream",
     "text": [
      "division of 16 with 2 is greater than 7\n",
      "division of 21 with 2 is greater than 7\n",
      "division of 32 with 2 is greater than 7\n",
      "division of 65 with 2 is greater than 7\n",
      "division of 64 with 2 is greater than 7\n",
      "division of 84 with 2 is greater than 7\n",
      "division of 82 with 2 is greater than 7\n",
      "division of 16 with 2 is greater than 7\n",
      "division of 24 with 2 is greater than 7\n",
      "division of 58 with 2 is greater than 7\n"
     ]
    }
   ],
   "source": [
    "# Printing greater than 7 number when divided by 2\n",
    "b = [16,21,32,65,64,84,82,16,24,58]\n",
    "\n",
    "for i in b :\n",
    "    if (i/2)>7:\n",
    "        print(\"division of\",i,\"with 2 is greater than 7\")\n",
    "    \n",
    "       \n",
    "    "
   ]
  },
  {
   "cell_type": "code",
   "execution_count": null,
   "metadata": {},
   "outputs": [],
   "source": []
  }
 ],
 "metadata": {
  "kernelspec": {
   "display_name": "Python 3",
   "language": "python",
   "name": "python3"
  },
  "language_info": {
   "codemirror_mode": {
    "name": "ipython",
    "version": 3
   },
   "file_extension": ".py",
   "mimetype": "text/x-python",
   "name": "python",
   "nbconvert_exporter": "python",
   "pygments_lexer": "ipython3",
   "version": "3.7.6"
  }
 },
 "nbformat": 4,
 "nbformat_minor": 4
}
