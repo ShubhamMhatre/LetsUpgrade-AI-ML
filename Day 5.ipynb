{
 "cells": [
  {
   "cell_type": "markdown",
   "metadata": {},
   "source": [
    "# Answer 1"
   ]
  },
  {
   "cell_type": "code",
   "execution_count": 17,
   "metadata": {},
   "outputs": [
    {
     "name": "stdout",
     "output_type": "stream",
     "text": [
      "3\n",
      "5\n",
      "7\n",
      "11\n",
      "13\n",
      "17\n",
      "19\n",
      "23\n",
      "29\n",
      "31\n",
      "37\n",
      "41\n",
      "43\n",
      "47\n",
      "53\n",
      "59\n",
      "61\n",
      "67\n",
      "71\n",
      "73\n"
     ]
    }
   ],
   "source": [
    "from sympy import isprime\n",
    "count =0\n",
    "for i in range(100):\n",
    "    if (isprime(i) and count < 20):\n",
    "        if i%2 !=0:\n",
    "            print(i)\n",
    "            count+=1"
   ]
  },
  {
   "cell_type": "markdown",
   "metadata": {},
   "source": [
    "# Answer 2"
   ]
  },
  {
   "cell_type": "code",
   "execution_count": 3,
   "metadata": {},
   "outputs": [
    {
     "name": "stdout",
     "output_type": "stream",
     "text": [
      "Shubham Mhatre\n",
      "\n",
      "LetsUpgrade : The String is alphanumeric.\n",
      "\n",
      "22022020 : The String contains only digits.\n",
      "\n",
      "Python : String contains only alphabetic characters.\n",
      "\n",
      "    : String contains only whitespace characters.\n",
      "\n",
      "SHUBHAM : All letters in the string are uppercase.\n",
      "\n",
      "shubham : All letters in the string are lowercase.\n",
      "\n",
      "ShubhaM : Convert String in lowercase: shubham \n",
      "\n",
      "ShubhaM : Convert String in uppercase: SHUBHAM \n",
      "\n",
      "\n",
      "Left Strip: shubham 10102000\n",
      "\n",
      "Left Strip with Character S: hubham\n",
      "\n",
      "Right Strip: Shubham 2020     \n",
      "\n",
      "Right Strip with Character :s Shubham\n",
      "\n",
      "Strip from both side : Shubham\n",
      "\n",
      "Strip with Character S: hubham is enjoying learning at LetsUpgrade\n",
      "Strip with Character s: Shubham is enjoying learning at LetsUpgrade\n",
      "\n",
      "endswith check whether a string ends with a specified substring\n",
      "True\n",
      "False\n",
      "\n",
      "startswith check if a string starts with a specified substring\n",
      "True\n",
      "False\n",
      "\n",
      " Find Method\n",
      "-1\n",
      "-1\n",
      "\n",
      " Replace Method \n",
      "Hello Aditi\n"
     ]
    }
   ],
   "source": [
    "# Python program to implement 15 functions of string\n",
    "def main():\n",
    "    print('Shubham Mhatre\\n')\n",
    " \n",
    "    user_string = \"LetsUpgrade\"\n",
    "    if user_string.isalnum():\n",
    "        print(user_string, ': The String is alphanumeric.\\n')\n",
    " \n",
    "    user_string = \"22022020\"\n",
    "    if user_string.isdigit():\n",
    "        print(user_string, ': The String contains only digits.\\n')\n",
    " \n",
    "    user_string = \"Python\"\n",
    "    if user_string.isalpha():\n",
    "        print(user_string, ': String contains only alphabetic characters.\\n')\n",
    " \n",
    "    user_string = \"   \"\n",
    "    if user_string.isspace():\n",
    "        print(user_string, ': String contains only whitespace characters.\\n')\n",
    " \n",
    "    user_string = \"SHUBHAM\"\n",
    "    if user_string.isupper():\n",
    "        print(user_string, ': All letters in the string are uppercase.\\n')\n",
    " \n",
    "    user_string = \"shubham\"\n",
    "    if user_string.islower():\n",
    "        print(user_string, ': All letters in the string are lowercase.\\n')\n",
    " \n",
    "    user_string = \"ShubhaM\"\n",
    "    toLower = user_string.lower()\n",
    "    print(user_string, ': Convert String in lowercase:', toLower, '\\n')\n",
    " \n",
    "    toUpper = user_string.upper()\n",
    "    print(user_string, ': Convert String in uppercase:', toUpper, '\\n')\n",
    " \n",
    "    # lstrip() Returns a copy of the string with all leading whitespace\n",
    "    # characters removed, that appear at the beginning of the string.\n",
    "    user_string = \"shubham 10102000\"\n",
    "    print('\\nLeft Strip:', user_string.lstrip())\n",
    " \n",
    "    # lstrip(char) Returns a copy of the string with all instances of\n",
    "    # char that appear at the beginning of the string removed.\n",
    "    user_string = \"Shubham\"\n",
    "    print('\\nLeft Strip with Character S:', user_string.lstrip('S'))\n",
    " \n",
    "    # rstrip() Returns a copy of the string with all leading whitespace\n",
    "    # characters removed, that appear at the end of the string.\n",
    "    user_string = \"Shubham 2020     \"\n",
    "    print('\\nRight Strip:', user_string.rstrip('S'))\n",
    " \n",
    "    # rstrip(char) Returns a copy of the string with all instances of\n",
    "    # char that appear at the end of the string.\n",
    "    user_string = \"Shubham\"\n",
    "    print('\\nRight Strip with Character :s', user_string.rstrip('s'))\n",
    " \n",
    "    # strip() returns a copy of the string with all leading\n",
    "    # and trailing whitespace characters removed.\n",
    "    user_string = \"   Shubham    \"\n",
    "    print('\\nStrip from both side :', user_string.strip())\n",
    " \n",
    "    # strip(char) Returns a copy of the string with all instances of\n",
    "    # char that appear at the beginning and the end of the string removed.\n",
    "    user_string = \"Shubham is enjoying learning at LetsUpgrade\"\n",
    "    print('\\nStrip with Character S:', user_string.strip('S'))\n",
    "    print('Strip with Character s:', user_string.strip('s'))\n",
    " \n",
    "    # endswith(substring) The substring argument is a string.\n",
    "    # The method returns true if the string ends with substring.\n",
    "    print('\\nendswith check whether a string ends with a specified substring')\n",
    "    user_string = \"Shubham\"\n",
    "    print(user_string.endswith('bham'))\n",
    "    print(user_string.endswith('bam'))\n",
    " \n",
    "    # startswith(substring) The substring argument is a string.\n",
    "    # The method returns true if the string starts with substring.\n",
    "    print('\\nstartswith check if a string starts with a specified substring')\n",
    "    user_string = \"Shubham\"\n",
    "    print(user_string.startswith('Shub'))\n",
    "    print(user_string.startswith('Sub'))\n",
    " \n",
    "    # The substring argument is a string. The method returns the lowest\n",
    "    # index in the string where substring is found.\n",
    "    print('\\n Find Method')\n",
    "    user_string = \"Shubham\"\n",
    "    print(user_string.find('bhamsb'))\n",
    "    print(user_string.find('shbam'))\n",
    "   \n",
    "    # replace(old, new) The old and new arguments are both strings. The method\n",
    "    # returns a copy of the string with all instances of old replaced by new.\n",
    "    print('\\n Replace Method ')\n",
    "    user_string = \"Hello Shubham\"\n",
    "    old = \"Shubham\"\n",
    "    new = \"Aditi\"\n",
    "    print(user_string.replace(old, new))\n",
    "main()    \n",
    " "
   ]
  },
  {
   "cell_type": "markdown",
   "metadata": {},
   "source": [
    "# Answer 3"
   ]
  },
  {
   "cell_type": "code",
   "execution_count": 7,
   "metadata": {},
   "outputs": [
    {
     "name": "stdout",
     "output_type": "stream",
     "text": [
      "Enter a string : bham\n",
      "Enter a string : subm\n",
      "Sting is neither anagram nor palindrome\n"
     ]
    }
   ],
   "source": [
    "# a Python program to check if the given string is a Palindrome or Anagram or None of them.\n",
    "a = input(\"Enter a string : \")\n",
    "b = input(\"Enter a string : \")\n",
    "if(b[ : : - 1]==a):\n",
    "    print('String is a palindrome')\n",
    "elif(sorted(b)==sorted(a)):\n",
    "    print('Sting is an anagram')\n",
    "else: \n",
    "    print('Sting is neither anagram nor palindrome')"
   ]
  },
  {
   "cell_type": "markdown",
   "metadata": {},
   "source": [
    "# Answer 4"
   ]
  },
  {
   "cell_type": "code",
   "execution_count": 16,
   "metadata": {},
   "outputs": [
    {
     "name": "stdout",
     "output_type": "stream",
     "text": [
      "String is : Dr. Darshan Ingle @AI-ML Trainer\n",
      "After removing all special characters from string\n",
      "Resultant string is:  dr. darshan ingle @ai-ml trainer\n",
      "After removing all special characters from string\n",
      "Resultant string is:  dr. darshan ingle ai-ml trainer\n",
      "After removing all special characters from string\n",
      "Resultant string is:  dr. darshan ingle ai-ml trainer\n",
      "After removing all special characters from string\n",
      "Resultant string is:  dr. darshan ingle ai-ml trainer\n",
      "After removing all special characters from string\n",
      "Resultant string is:  dr. darshan ingle ai-ml trainer\n",
      "After removing all special characters from string\n",
      "Resultant string is:  dr. darshan ingle ai-ml trainer\n",
      "After removing all special characters from string\n",
      "Resultant string is:  dr. darshan ingle ai-ml trainer\n",
      "After removing all special characters from string\n",
      "Resultant string is:  dr. darshan ingle ai-ml trainer\n",
      "After removing all special characters from string\n",
      "Resultant string is:  dr. darshan ingle ai-ml trainer\n",
      "After removing all special characters from string\n",
      "Resultant string is:  dr. darshan ingle ai-ml trainer\n",
      "After removing all special characters from string\n",
      "Resultant string is:  dr. darshan ingle aiml trainer\n",
      "After removing all special characters from string\n",
      "Resultant string is:  dr. darshan ingle aiml trainer\n",
      "After removing all special characters from string\n",
      "Resultant string is:  dr. darshan ingle aiml trainer\n",
      "After removing all special characters from string\n",
      "Resultant string is:  dr darshan ingle aiml trainer\n",
      "After removing all special characters from string\n",
      "Resultant string is:  dr darshan ingle aiml trainer\n",
      "After removing all special characters from string\n",
      "Resultant string is:  drdarshaningleaimltrainer\n"
     ]
    }
   ],
   "source": [
    " #  the string is \"Dr. Darshan Ingle @AI-ML Trainer\", then the output be \"drdarshaningleaimltrainer\".\n",
    "def replace_char(y) :\n",
    "        invalid_list = ['!','@','#','$','%','^','&','*','(',')','-','+','?','.',',',\" \"]\n",
    "        for i in invalid_list :\n",
    "            y = y.replace(i,'')\n",
    "            y = y.lower()\n",
    "            print(\"After removing all special characters from string\")\n",
    "            print(\"Resultant string is: \",y)\n",
    "string_5 = 'Dr. Darshan Ingle @AI-ML Trainer'\n",
    "print(\"String is :\", string_5)\n",
    " replace_char(string_5)"
   ]
  }
 ],
 "metadata": {
  "kernelspec": {
   "display_name": "Python 3",
   "language": "python",
   "name": "python3"
  },
  "language_info": {
   "codemirror_mode": {
    "name": "ipython",
    "version": 3
   },
   "file_extension": ".py",
   "mimetype": "text/x-python",
   "name": "python",
   "nbconvert_exporter": "python",
   "pygments_lexer": "ipython3",
   "version": "3.7.6"
  }
 },
 "nbformat": 4,
 "nbformat_minor": 4
}
